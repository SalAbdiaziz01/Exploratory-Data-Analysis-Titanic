{
 "cells": [
  {
   "cell_type": "code",
   "execution_count": null,
   "metadata": {},
   "outputs": [],
   "source": [
    "import pandas as pd\n",
    "import numpy as np\n",
    "import plotly.express as px\n",
    "import plotly.graph_objects as go\n",
    "# for Box-Cox Transformation\n",
    "from scipy import stats\n",
    "\n",
    "# for min_max scaling\n",
    "from mlxtend.preprocessing import minmax_scaling\n",
    "\n",
    "# plotting modules\n",
    "import seaborn as sns\n",
    "import missingno\n",
    "\n",
    "import matplotlib.pyplot as plt\n",
    "import scipy.stats as stats"
   ]
  },
  {
   "cell_type": "markdown",
   "metadata": {},
   "source": [
    "## Objectives\n",
    "-   What is the most important factor in determining survival of the Titanic incident?\n",
    "\n",
    "-   In the movie, the upper-class passengers were given preference on lifeboats. Does this show in the data?\n",
    "\n",
    "-   “Women and children first”. Was this the case?\n",
    "\n",
    "-   Add one other observation that you have noted in the dataset.\n",
    "\n"
   ]
  },
  {
   "cell_type": "code",
   "execution_count": null,
   "metadata": {},
   "outputs": [],
   "source": [
    "#Using read_csv() to read 'Titanic.csv' \n",
    "df_titanic = pd.read_csv('Titanic.csv')\n",
    "\n",
    "#Checking if there is null values in the columns and it's type\n",
    "df_titanic.info()\n",
    "\n",
    "#Storing the amount of null values that are found in each columns\n",
    "null_count = df_titanic.isnull().sum()\n",
    "\n",
    "#Fitlering null_count vairable to only show the what columns are null\n",
    "null_count = null_count[null_count > 0]\n",
    "print(f\"\\nMissing data found in the columns (Other columns have no null values)\\n{null_count}\")\n",
    "\n",
    "#Shows the first 10 of the dataframe\n",
    "df_titanic.head(10)"
   ]
  },
  {
   "cell_type": "markdown",
   "metadata": {},
   "source": [
    "Dropping the column 'Name','Ticket','Cabin' as you can't use any data analytic technique that is relevant to the obejectives that is listed. Also the 'Name','Ticket','Cabin' column doens't relevance to the other columns as there no direct effect on objectives."
   ]
  },
  {
   "cell_type": "code",
   "execution_count": null,
   "metadata": {},
   "outputs": [],
   "source": [
    "#Dropping the column 'Name', 'Ticket' and 'Cabin'\n",
    "df_titanic.drop('Name', axis=1, inplace=True)\n",
    "df_titanic.drop('Ticket', axis=1, inplace=True)\n",
    "df_titanic.drop('Cabin', axis=1, inplace=True)\n",
    "#Showing updated dataframe with the droped column\n",
    "df_titanic.head()\n"
   ]
  },
  {
   "cell_type": "markdown",
   "metadata": {},
   "source": [
    "## Understanding the data\n",
    "\n",
    "### What type of varibles are found in the columns?\n",
    "\n",
    "The table below shows all the column that is found in the data frame. Each of the column explains what type the variable is and a brief explanation of what each of those variables mean. \n",
    "\n",
    "| Varible Name  | Variable Type         | Description |\n",
    "| -----------   | --------------------- | ----------- |\n",
    "| PassengerID   | Index                 | Unique identifier for each of the passenger in the data frame       |\n",
    "| Survived      | Categorical binary    | 'Survived' relates to whether that passenger had survived the event (e.g value=1 is Yes, value=0 is No)        |\n",
    "| Pclass        | Ordinal categorical   | 'Passenger Class' are values that relate to the level of service that the passenger recieve (e.g  hierarchy (1st > 2nd > 3rd) in passenger classes on the Titanic) |\n",
    "| Sex           | Categorical           | 'Sex' relates whether the passenger is a 'male' or a 'female'  |\n",
    "| Age           | Categorical           | 'Age' relates how old was the passenger during the event   |\n",
    "| SibSp         | Discreate numerical   | (SibSp = siblings or spouses). The amount of siblings or spouses during the event |\n",
    "| Parch         | Discreate numerical   | (Parch = parents or children). The amount of parents or children during the event |\n",
    "| Fare          | Continuous            | 'Fare' is the amount paid for their ticket/s |\n",
    "| Embarked      | Categorical           | 'Embarked' shows which section of the titanic the passenger was located |\n",
    "\n",
    "## How I will be displaying each of the variables?\n",
    "\n",
    "The table belows show the avaible options that will allow me to visually understand the data and to see any anomalies can be found\n",
    "| Variable Type |  Graphical representation |\n",
    "| ----------- | ----------- |\n",
    "| Categorical | Pie Chart, Bar Chart |\n",
    "| Continuous, Discreate | Histogram, Box Plot, Heatmap |\n",
    "\n"
   ]
  },
  {
   "cell_type": "code",
   "execution_count": null,
   "metadata": {},
   "outputs": [],
   "source": [
    "#Checking the unqiue categoiral values that is found in the categoiral values and sorting the value \n",
    "print(f\"\\nUnique values for categorical variable\\n\")\n",
    "print(f\"Survived: \\t{df_titanic['Survived'].unique()}\")\n",
    "print(f\"Sex: \\t\\t{df_titanic['Sex'].unique()}\")\n",
    "print(f\"Pclass: \\t{sorted(df_titanic['Pclass'].unique())}\")\n",
    "print(f\"Embarked: \\t{df_titanic['Embarked'].unique()}\")"
   ]
  },
  {
   "cell_type": "markdown",
   "metadata": {},
   "source": [
    "### Explaining unique values for each categorical variable in a dataset\n",
    "\n",
    "The code above is used to find the unqiue values/names that is used in the dataset for categorial varibles\n",
    "\n",
    "**Survivied**\n",
    "- Value '0' means causality/death\n",
    "- Value '1' means survived/alive\n",
    "\n",
    "**Sex**\n",
    "- Value 'male' means the passengar was a male \n",
    "- Value 'female' means the passengar was a female \n",
    "\n",
    "**Pclass (Passenger class)**\n",
    "- Value '1' means 1st class ticket \n",
    "- Value '2' means 2nd class ticket \n",
    "- Value '3' means 3rd class ticket \n",
    "\n",
    "**Embarked**\n",
    "- Value 'S' means Southampton\n",
    "- Value 'Q' means Queenstown\n",
    "- Value 'C' means Cherbourg\n",
    "\n"
   ]
  },
  {
   "cell_type": "code",
   "execution_count": null,
   "metadata": {},
   "outputs": [],
   "source": [
    "#Checking the options that is in the 'Survived' column\n",
    "print(f\"Options in the 'Survived' columns {df_titanic['Survived'].unique()}\")\n",
    "\n",
    "#counts the amount of passengers that didn't survived by setting the value 'Survived' == 0\n",
    "non_survived_count = df_titanic[df_titanic['Survived'] == 0]['Survived'].count()\n",
    "\n",
    "#counts the amount of passengers that did survived by setting the value 'Survived' == 1\n",
    "survived_count = df_titanic[df_titanic['Survived'] == 1]['Survived'].count()\n",
    "\n",
    "#counts the total amount of passenger in the dataframe\n",
    "total_passengers = df_titanic['PassengerId'].count()\n",
    "\n",
    "#count the amout of male passenger in the dataframe\n",
    "total_male = df_titanic[df_titanic['Sex'] == 'male']['Sex'].count()\n",
    "\n",
    "#count the amount of female passenger in the dataframe\n",
    "total_female = df_titanic[df_titanic['Sex'] == 'female']['Sex'].count()\n",
    "\n",
    "\n",
    "#calculating the rate of survival(0.38) and the rate of non survival rate(0.61) \n",
    "survival_rate = survived_count / total_passengers\n",
    "non_survival_rate = non_survived_count / total_passengers\n",
    "\n",
    "survival_data = {\n",
    "    'Survived':survived_count,\n",
    "    'Death':non_survived_count\n",
    "}\n",
    "\n",
    "#Figure for pie chart based on the survival percentage of the event\n",
    "fig_survived = px.pie(df_titanic, values=survival_data.values(), names=survival_data.keys())\n",
    "#Shows the fig_survived\n",
    "fig_survived.show()\n",
    "\n",
    "\n",
    "#Printing out the percentage of both non survival/survival\n",
    "print(f\"The survival percentage: {survival_rate*100:.2f}%\\nThe non survival percentage: {non_survival_rate*100:.2f}%\")\n",
    "print(f\"The number of people survived is {survival_rate * total_passengers} and {non_survival_rate * total_passengers} passed away\")\n",
    "\n",
    "\n"
   ]
  },
  {
   "cell_type": "code",
   "execution_count": null,
   "metadata": {},
   "outputs": [],
   "source": [
    "#Calculating the distrubition's skewness for 'fig_age' histogram\n",
    "skewness_age = stats.skew(df_titanic['Age'].dropna())\n",
    "\n",
    "\n",
    "#Calculating the mean,mode,median for age found in the dataframe\n",
    "mean_age = df_titanic['Age'].mean()\n",
    "mode_age = df_titanic['Age'].mode().tolist() \n",
    "median_age = df_titanic['Age'].median()\n",
    "\n",
    "\n",
    "#Printing out the mean, mode, median and skewness of the histogram\n",
    "print(f\"Mean: {mean_age:.2f}\\nMode: {mode_age}\\nMedian: {median_age}\\nSkewness: {skewness_age:.2f}\")\n",
    "\n",
    "#Ploting the histogram for the 'Age' column in the dataframe\n",
    "fig_age_hist = px.histogram(\n",
    "    df_titanic, #selecting dataframe 'df_titanic'\n",
    "    x=\"Age\"     #selecting column 'Age'\n",
    ")\n",
    "\n",
    "\n",
    "#Ploting the box plot for the 'Age' column in the dataframe\n",
    "fig_age_box = px.box(\n",
    "    df_titanic,\n",
    "    y='Age'\n",
    ")\n",
    "\n",
    "#Adjusting the size of the histogram and boxplot \n",
    "fig_age_box.update_layout(height=600, width=800)\n",
    "fig_age_hist.update_layout(height=600, width=800)\n",
    "\n",
    "#Showing the histogram for 'Age' column\n",
    "fig_age_hist.show()\n",
    "fig_age_box.show()"
   ]
  },
  {
   "cell_type": "code",
   "execution_count": null,
   "metadata": {},
   "outputs": [],
   "source": [
    "# Plot graphic of missing values\n",
    "missingno.matrix(df_titanic, figsize = (30,10))\n",
    "\n",
    "# Percentage that is missing from the 'Age' column\n",
    "age_missing_rate = df_titanic['Age'].isnull().sum()/total_passengers\n",
    "print(f\"In the 'Age' column contains about {age_missing_rate*100:.2f}% missing data (Which is {age_missing_rate*total_passengers} out of {total_passengers})\")\n",
    "\n",
    "# Percentage taht is missing from the 'Embarked' column\n",
    "embarked_missing_rate = df_titanic['Embarked'].isnull().sum()/total_passengers\n",
    "print(f\"In the 'Embarked' column contains {embarked_missing_rate*100:.2f}% missing data (Which is {embarked_missing_rate*total_passengers} out of {total_passengers})\")\n"
   ]
  },
  {
   "cell_type": "markdown",
   "metadata": {},
   "source": [
    "After displaying the missing data you can see that most of the missing valeus come from the 'Age' column with a few random ones that can be found in 'Embarked'.  \n"
   ]
  },
  {
   "cell_type": "markdown",
   "metadata": {},
   "source": [
    "## Dealing with the missing data that is found in 'Age' and 'Embarked' column\n",
    "\n",
    "#### Explaing what could have caused the misisng data?\n",
    "\n",
    "**Age (MNAR)**: There seems to be a sysmetic reason for missingness that is found in the 'Age' column as about 19.87% is missing, the chance of 177 isolated events occuring is unlikely to happen. The matrix above doens't show any visual patterns that can be recognise that would incidate that for that sysmetic reason.  \n",
    "\n",
    "**Embarked (MCAR)**:  The missing matrix above shows there is no systematic reason for for those 2 (Which is 2.0 out of 891) data point being missing when being compared to other variables. There is no visually patterns that be found for example there is no entire rows that are missing. Since the missing percentaga value is very low which suggest that the likely hood of 2 isolated incident from occuring is probable. \n",
    "\n",
    "#### How should I fill in the missing data?\n",
    "\n",
    "**Age column**\n",
    "\n",
    "I will be using the median of 28 to fill in the missing data. The reason below is why I choice the median.\n",
    "-   The distribution is slightly skewed to the right and can be seen in the boxplot & histogram.\n",
    "-   The majority of the data points are clustered towards the lower end of the scale, with some outliers or high values pulling the distribution towards the right.\n",
    "-   The skewness value is 0.39 which incidates a mild positve skew distrubtion\n",
    "\n",
    "**Embarked column**\n",
    "\n",
    "I will be using the mode of 'S' (Southampton) value as the chances of the 'C' (Cherbourg) is 18.86% and Q (Queenstown) is 8.64%  while 'S' has 72.28% therefore is more likely to occur.\n",
    "Also since the missing value is only 2 (0.22%) which shouldn't introduce any major significant biases in the analysis. "
   ]
  },
  {
   "cell_type": "code",
   "execution_count": null,
   "metadata": {},
   "outputs": [],
   "source": [
    "# Replacing the missing value in age with value from 'median_age'\n",
    "df_titanic.loc[df_titanic['Age'].isnull(), 'Age'] = median_age\n",
    "\n",
    "# Replacing the missing value in embarked\n",
    "df_titanic.loc[df_titanic['Embarked'].isnull(), 'Embarked'] = 'S'"
   ]
  },
  {
   "cell_type": "markdown",
   "metadata": {},
   "source": [
    "## Objectives\n",
    "-  What is the most important factor in determining survival of the Titanic incident?\n",
    "\n",
    "Since the objective asks for the 'most important factor,' I will take it as a singular variable and not a combination of factors for the best chance of survival, as it doesn't align with the first objective. Using a heatmap will shows which variable has the most impacted on survival."
   ]
  },
  {
   "cell_type": "code",
   "execution_count": null,
   "metadata": {},
   "outputs": [],
   "source": [
    "#Convert categorical variable to values as the heatmap in can't take strings\n",
    "df_titanic['Sex'] = df_titanic['Sex'].map({\n",
    "    'male':0,\n",
    "    'female':1\n",
    "})\n",
    "\n",
    "df_titanic['Embarked'] = df_titanic['Embarked'].map({\n",
    "    'S':0,\n",
    "    'C':1,\n",
    "    'Q':2\n",
    "})\n",
    "\n",
    "\n",
    "# Create a heatmap to visualize correlations with 'Survived'\n",
    "plt.figure(figsize=(10, 8))\n",
    "sns.heatmap(df_titanic.corr(), annot=True, cmap='rocket', linewidths=0.5)\n",
    "plt.title('Correlation Heatmap of Titanic Dataset (with Survived)')\n",
    "plt.show()"
   ]
  },
  {
   "cell_type": "markdown",
   "metadata": {},
   "source": [
    "\n",
    "Addressing the first objective by using the heatmap to see which variable has the strongest correlation with the 'Survived' column. Directly looking at the 'Survived' column, it shows that the variable 'Sex' has the strongest correlation of 0.54. The correlation coefficient of 0.54 suggests a moderate positive correlation, meaning that chances of survival from this variable alone will influence your chances of survival.\n",
    "\n",
    "Another reason why I'm using the heatmap is to remove any unnecessary graphs for each of the vairables when comparing to 'Survived' variable."
   ]
  },
  {
   "cell_type": "code",
   "execution_count": null,
   "metadata": {},
   "outputs": [],
   "source": [
    "#Convert categorical variable to values back to string for 'Sex' column (e.g 0 to 'male')\n",
    "df_titanic['Sex'] = df_titanic['Sex'].map({\n",
    "    0:'male',\n",
    "    1:'female'\n",
    "})\n",
    "\n",
    "#Convert categorical variable to values back to string for 'Embarked' column (e.g 0 to 'S')\n",
    "df_titanic['Embarked'] = df_titanic['Embarked'].map({\n",
    "    0:'S',\n",
    "    1:'C',\n",
    "    2:'Q'\n",
    "})\n",
    "\n",
    "#Creating a new dataframe when the person has survived the titanic event by setting the column 'Survived' == 1\n",
    "df_survived = df_titanic[df_titanic['Survived'] == 1]\n",
    "\n",
    "#Showing the tail end of the dataframe of 'df_survived'\n",
    "df_survived.tail()"
   ]
  },
  {
   "cell_type": "code",
   "execution_count": null,
   "metadata": {},
   "outputs": [],
   "source": [
    "#Creating a new dataframe when the person has deceased in the titanic event by setting the column 'Survived' == 0\n",
    "df_deceased = df_titanic[df_titanic['Survived'] == 0]\n",
    "\n",
    "#Showing the tail end of the dataframe of 'df_deceased'\n",
    "df_deceased.tail()"
   ]
  },
  {
   "cell_type": "code",
   "execution_count": null,
   "metadata": {},
   "outputs": [],
   "source": [
    "#Counting the amount of 'male' that survived in the dataframe of 'df_survived'\n",
    "amount_survived_m = df_survived[df_survived['Sex'] == 'male']['Sex'].count()\n",
    "\n",
    "#Counting the amount of 'female' that survived in the dataframe of 'df_survived'\n",
    "amount_survived_f = df_survived[df_survived['Sex'] == 'female']['Sex'].count()\n",
    "\n",
    "#Counting the amount of 'male' that has deceased in the dataframe of 'df_deceased'\n",
    "amount_deceased_m = df_deceased[df_deceased['Sex'] == 'male']['Sex'].count()\n",
    "\n",
    "#Counting the amount of 'female' that has deceased in the dataframe of 'df_deceased'\n",
    "amount_deceased_f = df_deceased[df_deceased['Sex'] == 'female']['Sex'].count()\n",
    "\n",
    "#Printing the amount of people who survived/deceased for male/female\n",
    "print(f\"Male survived: {amount_survived_m}\\nMale deceased: {amount_deceased_m}\")\n",
    "print(f\"Female survived: {amount_survived_f}\\nFemale deceased: {amount_deceased_f}\")\n",
    "\n",
    "#Calculating the rate of survival for male/female using 'df_survived' dataframe\n",
    "survival_rate_m = amount_survived_m / total_male\n",
    "survival_rate_f = amount_survived_f / total_female\n",
    "\n",
    "\n",
    "#Calculating the rate of deceased for male/female using 'df_deceased' dataframe\n",
    "deceased_rate_m = amount_deceased_m / total_male\n",
    "deceased_rate_f = amount_deceased_f / total_female\n",
    "\n",
    "\n",
    "#Printing the rate of people who survived/deceased for male/female\n",
    "print(f\"\\nMale survived: {survival_rate_m:.2f}\\nMale deceased: {deceased_rate_m:.2f}\")\n",
    "print(f\"Female survived: {survival_rate_f:.2f}\\nFemale deceased: {deceased_rate_f:.2f}\")"
   ]
  },
  {
   "cell_type": "code",
   "execution_count": null,
   "metadata": {},
   "outputs": [],
   "source": [
    "fig_survival_deceased_bar = go.Figure(data= [\n",
    "    go.Bar(name=\"Male\", x=[\"Survived\",\"Deceased\"], y=[amount_survived_m,amount_deceased_m]),\n",
    "    go.Bar(name=\"Female\", x=[\"Survived\",\"Deceased\"], y=[amount_survived_f,amount_deceased_f])\n",
    "])\n",
    "\n",
    "fig_survival_deceased_bar.update_layout(barmode='group', title=\"Survival and Deceased Frequence by Gender\")\n",
    "fig_survival_deceased_bar.show()"
   ]
  },
  {
   "cell_type": "markdown",
   "metadata": {},
   "source": [
    "The bar graph shows visually the difference in survival rate for male versus female. You are more likely to survive  if you were a female. If we had a group of 100 people their chance of survival by gender is as follows\n",
    "-   19 in 100 for male (approximatley 19% chance)\n",
    "-   74 in 100 for female (approximatley 74% chance)\n",
    "\n",
    "In conlcolusion, I would say that 'Sex' is most important factor as it has the strongest correlation when compared to other variables.\n"
   ]
  },
  {
   "cell_type": "markdown",
   "metadata": {},
   "source": [
    "## Objectives\n",
    "### In the movie, the upper-class passengers were given preference on lifeboats. Does this show in the data?\n",
    "\n",
    "Understanding the objective in question I will need to determine how will I know if the passenger had a 'lifeboats' as the data doesn't directly show who had what at the time of the event. I will have to assumed that having a lifeboat will mean that you survived. So I will need to use group by pclass and their survival rate and compare if there is significant difference. \n",
    "\n",
    "Below displays all the information that forcus on the difference in classes for the following:\n",
    "-   Total survived  (1st,2nd,3rd)\n",
    "-   Total amount    (1st,2nd,3rd)\n",
    "-   Survival rate   (1st,2nd,3rd)"
   ]
  },
  {
   "cell_type": "code",
   "execution_count": null,
   "metadata": {},
   "outputs": [],
   "source": [
    "#Using 'df_survived' dataframe to find the total of people survived in first class\n",
    "survived_first_class = df_survived[df_survived['Pclass'] == 1]['Pclass'].count()\n",
    "#Using 'df_titanic' dataframe to find the total of people (Survived/Deceased) with first class \n",
    "total_first_class = df_titanic[df_titanic['Pclass'] == 1]['Pclass'].count()\n",
    "#Calculating the rate for survival rate for first class passenger\n",
    "rate_survived_1st = survived_first_class / total_first_class\n",
    "#Printing the total survived,total passenger and survival rate for first class\n",
    "print(f\"Survived(1st):{survived_first_class} Total(1st):{total_first_class} Rate(1st):{rate_survived_1st:.2f}\")\n",
    "\n",
    "#Using 'df_survived' dataframe to find the total of people survived in second class\n",
    "survived_second_class = df_survived[df_survived['Pclass'] == 2]['Pclass'].count()\n",
    "#Using 'df_titanic' dataframe to find the total people (Survived/Deceased) with second class\n",
    "total_second_class = df_titanic[df_titanic['Pclass'] == 2]['Pclass'].count()\n",
    "#Calculating the rate of survival rate for second class passenger\n",
    "rate_survived_2nd = survived_second_class / total_second_class\n",
    "#Printing the total survived,total passenger and survival rate for second class\n",
    "print(f\"Survived(2nd):{survived_second_class} Total(2nd):{total_second_class} Rate(2nd):{rate_survived_2nd:.2f}\")\n",
    "\n",
    "\n",
    "#Using 'df_survived' datagrame to find the total of people survived in third class\n",
    "survived_third_class = df_survived[df_survived['Pclass'] == 3]['Pclass'].count()\n",
    "#Using 'df_titanic' dataframe to find the total people (Survived/Deceased) with third class\n",
    "total_third_class = df_titanic[df_titanic['Pclass'] ==3]['Pclass'].count()\n",
    "#Calculating the rate of survival rate for thid class passenger\n",
    "rate_survived_3rd = survived_third_class / total_third_class\n",
    "#Printing the total survived,total passenger and survival rate for third class\n",
    "print(f\"Survived(3rd):{survived_third_class} Total(3rd):{total_third_class} Rate(3rd):{rate_survived_3rd:.2f}\")"
   ]
  },
  {
   "cell_type": "code",
   "execution_count": null,
   "metadata": {},
   "outputs": [],
   "source": [
    "name_class = [\"First\",\"Second\",\"Third\"]\n",
    "rate_class = [rate_survived_1st,rate_survived_2nd,rate_survived_3rd]\n",
    "bar_colour_class = ['green','orange','red']\n",
    "\n",
    "\n",
    "fig_class_rate = go.Figure(data= [\n",
    "    go.Bar(name=\"Survival rates\", x=name_class, y=rate_class, marker=dict(color=bar_colour_class) )\n",
    "])\n",
    "\n",
    "fig_class_rate.update_layout(barmode='group', title=\"The Survival Rates by 'Passenger Class'\")\n",
    "fig_class_rate.show()\n",
    "\n"
   ]
  },
  {
   "cell_type": "markdown",
   "metadata": {},
   "source": [
    "Looking directly into the survival rate of passenger based on class it seems that the first class has the greatest surivial rate, second class passenger came in the middle and third class came last. However, if we just look at the problem directly without any nuance we can come to wrong conlusion. Serveral assumptions have been made \n",
    "\n",
    "-   Each group of passengers have a directly propential amount of lifeboats in each of the class group. For example if it was required that each group must have at least 20% reversed lifeboat then the statement above would be true.Since data shows that their were more passenger 3rd class (491 total).\n",
    "\n",
    "-   The ship's placement of the lifeboat is also assumed to be equally distrubited from the ship meaning that everyone in each of the group had equal access.\n",
    "\n",
    "-   Human error may have occured due to the unexpected conditions which would have to lead certain people to act irrationally. Maybe they had a plan to evacute but The Titanic was famously referred to as the \"unsinkable\" ship which suggest that wasn't really planning.\n",
    "\n",
    "There probably more assumptions to be made but if we create a bar graph and see more closer the data it will a reveal a different story."
   ]
  },
  {
   "cell_type": "code",
   "execution_count": null,
   "metadata": {},
   "outputs": [],
   "source": [
    "#Using 'df_survived' dataframe to find the total of people survived in first class\n",
    "survived_first_class = df_survived[df_survived['Pclass'] == 1]['Pclass'].count()\n",
    "#Using 'df_titanic' dataframe to find the total of people (Survived/Deceased) with first class \n",
    "total_first_class = df_titanic[df_titanic['Pclass'] == 1]['Pclass'].count()\n",
    "#Calculating the rate for survival rate for first class passenger\n",
    "rate_survived_1st = survived_first_class / total_first_class\n",
    "#Printing the total survived,total passenger and survival rate for first class\n",
    "print(f\"Survived(1st):{survived_first_class} Total(1st):{total_first_class} Rate(1st):{rate_survived_1st:.2f}\")"
   ]
  },
  {
   "cell_type": "code",
   "execution_count": null,
   "metadata": {},
   "outputs": [],
   "source": [
    "#Using 'df_titanic' dataframe to find the total of people Survived with first class (MALE ONLY)\n",
    "m_sur_1st = df_titanic[\n",
    "    (df_titanic['Pclass'] == 1) &\n",
    "    (df_titanic['Sex'] == \"male\") &\n",
    "    (df_titanic['Survived'] == 1)\n",
    "    ]['Pclass'].count()\n",
    "#Using 'df_titanic' dataframe to find the total of people Survived with first class (FEMALE ONLY)\n",
    "f_sur_1st = df_titanic[\n",
    "    (df_titanic['Pclass'] == 1) &\n",
    "    (df_titanic['Sex'] == \"female\") &\n",
    "    (df_titanic['Survived'] == 1)\n",
    "    ]['Pclass'].count()\n",
    "\n",
    "#Using 'df_titanic' dataframe to find the total of people Survived with second class (MALE ONLY)\n",
    "m_sur_2nd = df_titanic[\n",
    "    (df_titanic['Pclass'] == 2) &\n",
    "    (df_titanic['Sex'] == \"male\") &\n",
    "    (df_titanic['Survived'] == 1)\n",
    "    ]['Pclass'].count()\n",
    "#Using 'df_titanic' dataframe to find the total of people Survived with second class (FEMALE ONLY)\n",
    "f_sur_2nd = df_titanic[\n",
    "    (df_titanic['Pclass'] == 2) &\n",
    "    (df_titanic['Sex'] == \"female\") &\n",
    "    (df_titanic['Survived'] == 1)\n",
    "    ]['Pclass'].count()\n",
    "\n",
    "#Using 'df_titanic' dataframe to find the total of people Survived with third class (MALE ONLY)\n",
    "m_sur_3rd = df_titanic[\n",
    "    (df_titanic['Pclass'] == 3) &\n",
    "    (df_titanic['Sex'] == \"male\") &\n",
    "    (df_titanic['Survived'] == 1)\n",
    "    ]['Pclass'].count()\n",
    "#Using 'df_titanic' dataframe to find the total of people Survived with third class (FEMALE ONLY)\n",
    "f_sur_3rd = df_titanic[\n",
    "    (df_titanic['Pclass'] == 3) &\n",
    "    (df_titanic['Sex'] == \"female\") &\n",
    "    (df_titanic['Survived'] == 1)\n",
    "    ]['Pclass'].count()"
   ]
  },
  {
   "cell_type": "code",
   "execution_count": null,
   "metadata": {},
   "outputs": [],
   "source": [
    "name_class = [\"First\",\"Second\",\"Third\"]\n",
    "bar_colour_class = ['green','orange','red']\n",
    "\n",
    "\n",
    "# Create a figure with two bars\n",
    "fig_class_rate = go.Figure(data=[\n",
    "    go.Bar(name=\"Female (1st)\", x=name_class, y=[f_sur_1st, 0, 0], marker=dict(color=bar_colour_class[0])),\n",
    "    go.Bar(name=\"Male (1st)\", x=name_class, y=[m_sur_1st, 0, 0], marker=dict(color=bar_colour_class[0])),\n",
    "\n",
    "    go.Bar(name=\"Female (2nd)\", x=name_class, y=[0, f_sur_2nd, 0], marker=dict(color=bar_colour_class[1])),\n",
    "    go.Bar(name=\"Male (2nd)\", x=name_class, y=[0, m_sur_2nd, 0], marker=dict(color=bar_colour_class[1])),\n",
    "\n",
    "    go.Bar(name=\"Female (3rd)\", x=name_class, y=[0, 0, f_sur_3rd], marker=dict(color=bar_colour_class[2])),\n",
    "    go.Bar(name=\"Male (3rd)\", x=name_class, y=[0, 0, m_sur_3rd], marker=dict(color=bar_colour_class[2]))\n",
    "])\n",
    "\n",
    "fig_class_rate.update_layout(barmode='group', title=\"The Survival Total by 'Passenger Class' and 'Sex'\")\n",
    "fig_class_rate.show()"
   ]
  },
  {
   "cell_type": "markdown",
   "metadata": {},
   "source": [
    "If the statement \"upper-class passengers were given preference on lifeboats\" was true then there should be more males from the second class should have a higher value than third class since second class is higher than third in terms of status. However this is not true as these statement below are true and contradict the narrative\n",
    "-   Female in third class was slightly greater than second class but overall similiar showing no preference\n",
    "-   Male in third class was more greater than third class approximately x2.7 suggesting a preference for third class male over second class male\n",
    "\n",
    "But the overview of the bar graph \"The Survival Total by 'Passenger Class' and 'Sex'\" shows that distrubtion of passenger in the lifeboat when comparing class is even. If the statement was true I would expect to see a desecending order from first till third with significant difference in values. In conclusion, I reject the statement as their isn't enought evidence to suggest that preference was given to certain class of people based on the assumption that was made and the data presented."
   ]
  },
  {
   "cell_type": "markdown",
   "metadata": {},
   "source": [
    "## Objective\n",
    "\n",
    "### “Women and children first”. Was this the case?\n",
    "\n",
    "The statement means that women and children had a higher priority than men in a case of emergency. The following assumptions that I will make to answer for the case presented\n",
    "-   Children equivalates to passenger under the age of 18\n",
    "-   Women means a female that is mature and is between the age from 18 to 99 years old\n",
    "-   Men means a male that is mature and is between the age from 18 to 99 years old\n",
    "\n",
    "If the case is true then I'm expected to see the survival rate for men to be significantly lower than for female and children.\n",
    "\n",
    "After calculating the rates the statement is true as men did sacrifice them self as their figures shows below \n",
    "-   Men (16.57%) < Children (53.98%)\n",
    "-   Men (16.57%) < Women (75.29%) \n",
    "\n",
    "You can also see this in the bar chart as the 'deceased' bar in men is greater then 'children' and 'women'. In conclusion the case for \"Women and childern first\" was true."
   ]
  },
  {
   "cell_type": "code",
   "execution_count": null,
   "metadata": {},
   "outputs": [],
   "source": [
    "#Counting the amount of people who are under 18 and survived\n",
    "children_survived = df_titanic[\n",
    "    (df_titanic['Age'] < 18) &\n",
    "    (df_titanic['Survived'] == 1)\n",
    "]['PassengerId'].count()\n",
    "#Counting the amount of people who are under 18 and died\n",
    "children_deceased = df_titanic[\n",
    "    (df_titanic['Age'] < 18) &\n",
    "    (df_titanic['Survived'] == 0) \n",
    "]['PassengerId'].count()\n",
    "\n",
    "#Counting the amount of people who are above 18, survived and is a female\n",
    "women_survived = df_titanic[\n",
    "    (df_titanic['Age'] >= 18) &\n",
    "    (df_titanic['Survived'] == 1) &\n",
    "    (df_titanic['Sex'] == 'female')\n",
    "]['PassengerId'].count()\n",
    "#Counting the amount of people who are above 18, died and is a female\n",
    "women_deceased = df_titanic[\n",
    "    (df_titanic['Age'] >= 18) &\n",
    "    (df_titanic['Survived'] == 0) &\n",
    "    (df_titanic['Sex'] == 'female')\n",
    "]['PassengerId'].count()\n",
    "\n",
    "#Counting the amount of people who are above 18, survived and is a male\n",
    "men_survived = df_titanic[\n",
    "    (df_titanic['Age'] >= 18) &\n",
    "    (df_titanic['Survived'] == 1) &\n",
    "    (df_titanic['Sex'] == 'male')\n",
    "]['PassengerId'].count()\n",
    "#Counting the amount of people who are above 18, died and is a male\n",
    "men_deceased = df_titanic[\n",
    "    (df_titanic['Age'] >= 18) &\n",
    "    (df_titanic['Survived'] == 0) &\n",
    "    (df_titanic['Sex'] == 'male')\n",
    "]['PassengerId'].count()"
   ]
  },
  {
   "cell_type": "code",
   "execution_count": null,
   "metadata": {},
   "outputs": [],
   "source": [
    "#Storing the count for the total of survived 'children', 'women' and 'men'\n",
    "survived_data = [children_survived, women_survived, men_survived]\n",
    "\n",
    "#Storing the count for the total of deceased 'children', 'women' and 'men'\n",
    "deceased_data = [children_deceased, women_deceased, men_deceased]\n",
    "\n",
    "#The x-axis on the bar chart which names are 'Children','Women' and 'Men'\n",
    "age_group_name = ['Children', 'Women', 'Men']\n",
    "\n",
    "#Colour selector for the bars in the bar chart (e.g bar_colour_class[0] = green)\n",
    "bar_colour_class = ['green', 'red']\n",
    "\n",
    "# Creating the bar chart for to display the information for 'survived_data' and 'deceased_data' by the 'age_group_name'\n",
    "fig_priority = go.Figure(data=[\n",
    "    go.Bar(name=\"Survived\", x=age_group_name, y=survived_data, marker=dict(color=bar_colour_class[0])),\n",
    "    go.Bar(name=\"Deceased\", x=age_group_name, y=deceased_data, marker=dict(color=bar_colour_class[1])),\n",
    "])\n",
    "\n",
    "#Setting the barmode='group' and changing the title of the graph\n",
    "fig_priority.update_layout(barmode='group', title=\"The Survival/Deceased Total Based on Age and Gender\")\n",
    "#Showing the \"The Survival/Deceased Total Based on Age and Gender\"\n",
    "fig_priority.show()\n"
   ]
  },
  {
   "cell_type": "code",
   "execution_count": null,
   "metadata": {},
   "outputs": [],
   "source": [
    "#Calculating the survival rate for 'Children', 'Women' and 'Men'\n",
    "survival_rate_children = children_survived / (children_survived+children_deceased)\n",
    "survival_rate_women = women_survived / (women_survived+women_deceased)\n",
    "survival_rate_men = men_survived / (men_survived+men_deceased)\n",
    "\n",
    "print(f\"The Survival Rate\\nChildren: {survival_rate_children:.2f} ({survival_rate_children*100:.2f}%)\")\n",
    "print(f\"Women: {survival_rate_women:.2f} ({survival_rate_women*100:.2f}%)\")\n",
    "print(f\"Men: {survival_rate_men:.2f} ({survival_rate_men*100:.2f})%\")"
   ]
  },
  {
   "cell_type": "markdown",
   "metadata": {},
   "source": [
    "## Objective\n",
    "\n",
    "### Do younger passenger survived the titanic compared to the older passengers\n"
   ]
  },
  {
   "cell_type": "code",
   "execution_count": 248,
   "metadata": {},
   "outputs": [
    {
     "name": "stdout",
     "output_type": "stream",
     "text": [
      "0.42 80.0\n"
     ]
    }
   ],
   "source": [
    "min_age = df_survived['Age'].min()\n",
    "max_age = df_survived['Age'].max()\n",
    "\n",
    "print(min_age,max_age)"
   ]
  },
  {
   "cell_type": "code",
   "execution_count": 253,
   "metadata": {},
   "outputs": [
    {
     "name": "stderr",
     "output_type": "stream",
     "text": [
      "/var/folders/f_/__7nfmqd5nx94gnz29h4xjh40000gn/T/ipykernel_10205/96846015.py:9: UserWarning:\n",
      "\n",
      "The palette list has more values (2) than needed (1), which may not be intended.\n",
      "\n"
     ]
    },
    {
     "data": {
      "image/png": "[encoded data removed]",
      "text/plain": [
       "<Figure size 1000x600 with 1 Axes>"
      ]
     },
     "metadata": {},
     "output_type": "display_data"
    }
   ],
   "source": [
    "# Filter data for passengers aged 0-80\n",
    "df_filtered = df_survived[df_survived['Age'].between(0, 80)]\n",
    "\n",
    "# Create age groups with a width of 10\n",
    "df_filtered['Age Group'] = pd.cut(df_filtered['Age'], bins=range(0, 81, 10), right=False)\n",
    "\n",
    "# Plot using Seaborn\n",
    "plt.figure(figsize=(10, 6))\n",
    "sns.countplot(x='Age Group', hue='Survived', data=df_filtered, palette=['red', 'green'])\n",
    "plt.title('Survival Comparison of Younger and Older Passengers on Titanic')\n",
    "plt.xlabel('Age Group')\n",
    "plt.ylabel('Number of Passengers')\n",
    "plt.legend(title='Survival Status', labels=['Survived'])\n",
    "plt.show()"
   ]
  },
  {
   "cell_type": "markdown",
   "metadata": {},
   "source": [
    "For the graph alone I'm using the that younger people tend to survive more than those who are much older"
   ]
  },
  {
   "cell_type": "markdown",
   "metadata": {},
   "source": [
    "Reference\n",
    "\n",
    "-   QUCLA (2021). What is the difference between categorical, ordinal and interval variables? [online] stats.oarc.ucla.edu. Available at: https://stats.oarc.ucla.edu/other/mult-pkg/whatstat/what-is-the-difference-between-categorical-ordinal-and-interval-variables/.\n",
    "\n",
    "-   kaggle.com. (n.d.). Titanic - Machine Learning from Disaster. [online] Available at: https://www.kaggle.com/competitions/titanic/data.\n",
    "\n",
    "\n",
    "\n",
    "\n",
    "‌"
   ]
  }
 ],
 "metadata": {
  "kernelspec": {
   "display_name": "Python 3 (ipykernel)",
   "language": "python",
   "name": "python3"
  },
  "language_info": {
   "codemirror_mode": {
    "name": "ipython",
    "version": 3
   },
   "file_extension": ".py",
   "mimetype": "text/x-python",
   "name": "python",
   "nbconvert_exporter": "python",
   "pygments_lexer": "ipython3",
   "version": "3.12.3"
  }
 },
 "nbformat": 4,
 "nbformat_minor": 4
}
